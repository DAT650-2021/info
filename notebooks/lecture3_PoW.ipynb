{
 "cells": [
  {
   "cell_type": "markdown",
   "id": "5d1dd277",
   "metadata": {
    "id": "5d1dd277"
   },
   "source": [
    "# Lecture 3 Proof of Work"
   ]
  },
  {
   "cell_type": "code",
   "execution_count": 2,
   "id": "ef05ce3c",
   "metadata": {
    "id": "ef05ce3c"
   },
   "outputs": [],
   "source": [
    "#Import statements\n",
    "import hashlib as hasher\n",
    "\n",
    "def hashbits(input):\n",
    "    hash_obj = hasher.sha256()\n",
    "    inputbytes = input.encode()\n",
    "    #print(type(inputbytes))\n",
    "    hash_obj.update(inputbytes)\n",
    "    hashbytes = hash_obj.digest()\n",
    "    return ''.join(f'{x:08b}' for x in hashbytes)\n",
    "\n",
    "def hash(input):\n",
    "    hash_obj = hasher.sha256()\n",
    "    inputbytes = input.encode()\n",
    "    #print(type(inputbytes))\n",
    "    hash_obj.update(inputbytes)\n",
    "    return hash_obj.hexdigest()"
   ]
  },
  {
   "cell_type": "markdown",
   "id": "37bbdd87",
   "metadata": {
    "id": "37bbdd87"
   },
   "source": [
    "## Exercise 1\n",
    "\n",
    "### Proof of Work\n",
    "* Create a simple function for solvoing PoW. The function has 2 parameters. First parameter is the base string, and second parameter indicates the number of initial '0' bits. The function should return a nounce. \n",
    "* Try out finding a nounce for solving PoW with 4,5,...,10 initial '0' bits with the same base string. Time each function run. Can you find any relation? \n",
    "* Draw a line graph with the results. X axes shows the number of initial '0' bits and Y axes is time. Find out the effect of adding one extra '0' to the time requiers for solving the PoW.  \n",
    "* Instead of a single run, time solving PoW with a given difficulty for 10, 20  or 30 different strings. Compare the running time for different difficulties."
   ]
  },
  {
   "cell_type": "code",
   "execution_count": null,
   "id": "f416da03",
   "metadata": {
    "id": "f416da03"
   },
   "outputs": [],
   "source": [
    "import time\n",
    "import matplotlib.pyplot as plt\n",
    "\n",
    "def numberOfInitZeros(hashStr):\n",
    "  #add this function\n",
    "  #return the number of initial zeroes in a hash\n",
    "\n",
    "def PoWSolver(baseStr, zbits):\n",
    "  #add this function\n",
    "  #return the nounce\n",
    "\n",
    "baseStr = \"Hello World!\"\n",
    "timeSeconds = []\n",
    "zNum = [1,2,3,4,5,6,7,8,9,10]\n",
    "for i in range(0 , 10):\n",
    "  start_time = time.time()\n",
    "  #for a better comparison computs PoW 10,20 or 30 times with different strings.\n",
    "  nonce = PoWSolver(baseStr , i)\n",
    "  seconds = (time.time() - start_time)\n",
    "  timeSeconds.append(seconds)\n",
    "  print(nonce)\n",
    "  print(hashbits(baseStr + str(nonce)))\n",
    "\n",
    "plt.plot(zNum, timeSeconds)\n",
    "plt.title('Time to solve PoW')\n",
    "plt.xlabel('Number of initial \"0\"')\n",
    "plt.ylabel('Time')\n",
    "plt.show()"
   ]
  },
  {
   "cell_type": "markdown",
   "id": "ac097c16",
   "metadata": {
    "id": "ac097c16"
   },
   "source": [
    "## Exercise 2\n",
    "\n",
    "### Mining power\n",
    "Below is a stub for Block, Hashlist, and Miner classes. Miner 1 should have twice mining power as Miner 2. \n",
    "Note the new fields `Block.creator`, `Block.nonce`, and `HashList.difficulty`.\n",
    "1. Complete PoWSolver and checkMiner functions. \n",
    "2. What is impact of mining power?"
   ]
  },
  {
   "cell_type": "code",
   "execution_count": null,
   "id": "CDX_Rs4rubpy",
   "metadata": {
    "id": "CDX_Rs4rubpy"
   },
   "outputs": [],
   "source": [
    "class Block:\n",
    "    def __init__(self, data, creator=None, previous=None, nonce=0):\n",
    "        self.data = data\n",
    "        if previous is None:\n",
    "            self.previous = None\n",
    "            self.previous_hash = \"\"\n",
    "            self.creator = Miner(0 , \"0\")\n",
    "        else:\n",
    "            self.previous = previous\n",
    "            self.previous_hash = previous.hash\n",
    "            self.creator = creator\n",
    "        self.nonce = nonce\n",
    "        self.hash = self.hash_block()\n",
    "\n",
    "    def hash_block(self):\n",
    "        return hashbits(self.data+ self.creator.name + self.previous_hash + str(self.nonce))\n",
    "        \n",
    "class HashList:\n",
    "    def __init__(self, genesis_data, difficulty):\n",
    "        self.last = Block(genesis_data)\n",
    "        self.difficulty = difficulty\n",
    "        self.size = 0\n",
    "        \n",
    "    def add(self, newBlock):\n",
    "        self.last = newBlock\n",
    "        self.size +=1\n",
    "        \n",
    "    def checkMiner(self , miner):\n",
    "      #return number of blocks created by the given miner\n",
    "\n",
    "\n",
    "\n",
    "class Miner:\n",
    "  def __init__(self, miningPower, name):\n",
    "    self.miningPower = miningPower\n",
    "    self.nonce = 0\n",
    "    self.name = name\n",
    "  \n",
    "  def PoWSolver(self, bc):\n",
    "    newBlock = Block(str(bc.size), self, bc.last)\n",
    "    #Try self.miningPower many nonces for finding a block.\n",
    "    #You can repeatedly adjust the nonce in newBlock and try hash_block.\n",
    "    #If a solution is found that matches the difficulty of the blockchain, add it to the chain.\n",
    "    #Use self.nonce to remember the last nonce between two trials.\n",
    "    \n",
    "bc = HashList(\"0\" , 10)\n",
    "m1 = Miner(2 ,\"m1\")\n",
    "m2 = Miner(4, \"m2\")\n",
    "while bc.size < 20:\n",
    "  m1.PoWSolver(bc)\n",
    "  m2.PoWSolver(bc)\n",
    "\n",
    "print(bc.checkMiner(m1))\n",
    "print(bc.checkMiner(m2))"
   ]
  },
  {
   "cell_type": "markdown",
   "id": "62da38e9",
   "metadata": {
    "id": "62da38e9"
   },
   "source": [
    "## Exercise 3\n",
    "\n",
    "### Average time to solve PoW\n",
    "Solve PoW 100 times with different data but same difficulty. \n",
    "1. What is the average time to solve PoW?\n",
    "2. What is the minimum?\n",
    "3. What is the maximum?"
   ]
  },
  {
   "cell_type": "code",
   "execution_count": 93,
   "id": "1be83823",
   "metadata": {
    "id": "1be83823"
   },
   "outputs": [],
   "source": []
  }
 ],
 "metadata": {
  "colab": {
   "collapsed_sections": [],
   "name": "lecture3_PoW.ipynb",
   "provenance": []
  },
  "kernelspec": {
   "display_name": "Python 3 (ipykernel)",
   "language": "python",
   "name": "python3"
  },
  "language_info": {
   "codemirror_mode": {
    "name": "ipython",
    "version": 3
   },
   "file_extension": ".py",
   "mimetype": "text/x-python",
   "name": "python",
   "nbconvert_exporter": "python",
   "pygments_lexer": "ipython3",
   "version": "3.9.5"
  }
 },
 "nbformat": 4,
 "nbformat_minor": 5
}
