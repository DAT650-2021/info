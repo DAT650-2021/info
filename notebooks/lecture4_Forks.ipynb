{
 "cells": [
  {
   "cell_type": "markdown",
   "id": "5d1dd277",
   "metadata": {
    "id": "5d1dd277"
   },
   "source": [
    "# Lecture 4 Forks"
   ]
  },
  {
   "cell_type": "code",
   "execution_count": 41,
   "id": "ef05ce3c",
   "metadata": {
    "id": "ef05ce3c"
   },
   "outputs": [],
   "source": [
    "#Import statements\n",
    "import hashlib as hasher\n",
    "\n",
    "def hashbits(input):\n",
    "    hash_obj = hasher.sha256()\n",
    "    inputbytes = input.encode()\n",
    "    #print(type(inputbytes))\n",
    "    hash_obj.update(inputbytes)\n",
    "    hashbytes = hash_obj.digest()\n",
    "    return ''.join(f'{x:08b}' for x in hashbytes)\n",
    "\n",
    "def hash(input):\n",
    "    hash_obj = hasher.sha256()\n",
    "    inputbytes = input.encode()\n",
    "    #print(type(inputbytes))\n",
    "    hash_obj.update(inputbytes)\n",
    "    return hash_obj.hexdigest()"
   ]
  },
  {
   "cell_type": "markdown",
   "id": "37bbdd87",
   "metadata": {
    "id": "37bbdd87"
   },
   "source": [
    "## Exercise 1\n",
    "\n",
    "### Forks (Part 1)\n",
    "In previous lectures you implemented a simple blockchain as a linked list. \n",
    "We need to change that blockchain by adding:\n",
    "    - `Block.height` the height of each block\n",
    "    - `Blockchain.chain` a list containing all blocks\n",
    "\n",
    "We also removed the `last`. \n",
    "* Implement a funtion called longestChain for returning the last block of the longest chain.\n",
    "* Use the height of each block to implement hasFork function. \n",
    "* Complete PoWSolver function in which miners append block to the longest chain. \n",
    "* What is the result of hasFork? Why?"
   ]
  },
  {
   "cell_type": "code",
   "execution_count": null,
   "id": "POewcpIjhHiB",
   "metadata": {
    "id": "POewcpIjhHiB"
   },
   "outputs": [],
   "source": [
    "class Block:\n",
    "    def __init__(self, data, creator=None, previous=None, nonce=0):\n",
    "        self.data = data\n",
    "        if previous is None:\n",
    "            self.previous = None\n",
    "            self.previous_hash = \"\"\n",
    "            self.creator = Miner(0 , \"0\")\n",
    "            self.height = 0\n",
    "        else:\n",
    "            self.previous = previous\n",
    "            self.previous_hash = previous.hash\n",
    "            self.creator = creator\n",
    "            self.height = previous.height+1\n",
    "        self.nonce = nonce\n",
    "        self.hash = self.hash_block()\n",
    "\n",
    "    def hash_block(self):\n",
    "        return hashbits(self.data+ self.creator.name + self.previous_hash + str(self.nonce))\n",
    "        \n",
    "class Blockchain:\n",
    "    def __init__(self, genesis_data, difficulty):\n",
    "        self.chain = []\n",
    "        self.chain. append(Block(genesis_data))\n",
    "        self.difficulty = difficulty\n",
    "        self.size = 0\n",
    "\n",
    "    def longestChain(self):\n",
    "      #add this function\n",
    "      #return the last block of the longest chain (block with the maximum height)\n",
    "        \n",
    "    def add(self, newBlock):\n",
    "        self.chain.append(newBlock)\n",
    "        self.size +=1\n",
    "\n",
    "    def hasFork(self):\n",
    "      #add this function\n",
    "      #check whether there is a fork in the blockchain. return True or False\n",
    "\n",
    "\n",
    "class Miner:\n",
    "  def __init__(self, miningPower, name):\n",
    "    self.miningPower = miningPower\n",
    "    self.nonce = 0\n",
    "    self.name = name\n",
    "  \n",
    "  def PoWSolver(self, bc):\n",
    "    #add this function\n",
    "    #add a block to the longest chain\n",
    "\n",
    "def numberOfInitZeros(hashStr):\n",
    "  count = 0\n",
    "  for i in range (0 , len(hashStr)):\n",
    "    if hashStr[i] == '1':\n",
    "      break\n",
    "    count += 1\n",
    "  return count\n",
    "\n",
    "bc = Blockchain(\"0\" , 10)\n",
    "m1 = Miner(2 ,\"m1\")\n",
    "m2 = Miner(4, \"m2\")\n",
    "while bc.size < 20:\n",
    "  m1.PoWSolver(bc)\n",
    "  m2.PoWSolver(bc)\n",
    "\n",
    "print(bc.hasFork())"
   ]
  },
  {
   "cell_type": "markdown",
   "id": "ac097c16",
   "metadata": {
    "id": "ac097c16"
   },
   "source": [
    "## Exercise 2\n",
    "\n",
    "### Forks (Part 2)\n",
    "Forks happen because two miners find a block concurrently.\n",
    "Below we model this by having miners create a block extending a local lastBlock.\n",
    "Function UpdateLast models a block arriving from the main chain.\n",
    "* Implement functions `PoWSolver` and `UpdateLast`. Note that `PoWSolver` should extend the local block `self.lastBlock`, rather than the longest chain. `UpdateLast` should update `self.lastBlock` to the longest chain.\n",
    "* Do forks happen if we call `UpdateLast` before every call to `PoWSolver`? What if we call it before every second?"
   ]
  },
  {
   "cell_type": "code",
   "execution_count": null,
   "id": "CDX_Rs4rubpy",
   "metadata": {
    "id": "CDX_Rs4rubpy"
   },
   "outputs": [],
   "source": [
    "\n",
    "class CMiner:\n",
    "  def __init__(self, miningPower, name, lastBlock=None):\n",
    "    self.miningPower = miningPower\n",
    "    self.nonce = 0\n",
    "    self.name = name\n",
    "    self.lastBlock = lastBlock\n",
    "  \n",
    "  def UpdateLast(self, bc):\n",
    "    #update self.lastBlock to the longestChain, if that has a larger height.\n",
    "\n",
    "  def PoWSolver(self, bc):\n",
    "    #add this function \n",
    "    #do not forget to update self.lastBlock if a block is found\n",
    "\n",
    "\n",
    "bc = Blockchain(\"0\" , 7)\n",
    "m1 = Miner(5 ,\"m1\", bc.longestChain())\n",
    "m2 = Miner(5, \"m2\", bc.longestChain())\n",
    "while bc.size < 20:\n",
    "  m1.UpdateLast(bc)\n",
    "  m2.UpdateLast(bc)\n",
    "  m1.PoWSolver(bc)\n",
    "  m2.PoWSolver(bc)\n",
    "\n",
    "print(bc.hasFork())\n",
    "bc.print()"
   ]
  },
  {
   "cell_type": "markdown",
   "id": "62da38e9",
   "metadata": {
    "id": "62da38e9"
   },
   "source": [
    "## Exercise 3\n",
    "\n",
    "### Impact of difficulty and network loss on forks\n",
    "Implement a function that returns the number of blocks which are not in the longest chain. Calculate this number for different difficulties and network losses. What is the impact of these on forks?"
   ]
  },
  {
   "cell_type": "code",
   "execution_count": null,
   "id": "1be83823",
   "metadata": {
    "id": "1be83823"
   },
   "outputs": [],
   "source": []
  },
  {
   "cell_type": "markdown",
   "id": "09997c47",
   "metadata": {},
   "source": [
    "## Exercise 4\n",
    "### Difficulty\n",
    "1. Calculate the probability of 6 consecutive forks in a blockchain with block delay `10min` and network delay `12.6sec`.\n",
    "2. Calculate the probability of 6 consecutive forks in a blockchain with block delay `20sec` and network delay `12.6sec`.\n",
    "3. Calculate the probability of 180 consecutive forks in a blockchain with block delay `20sec` and network delay `12.6sec`."
   ]
  },
  {
   "cell_type": "code",
   "execution_count": null,
   "id": "d613e6ef",
   "metadata": {},
   "outputs": [],
   "source": []
  }
 ],
 "metadata": {
  "colab": {
   "collapsed_sections": [],
   "name": "lecture4_Forks.ipynb",
   "provenance": []
  },
  "kernelspec": {
   "display_name": "Python 3 (ipykernel)",
   "language": "python",
   "name": "python3"
  },
  "language_info": {
   "codemirror_mode": {
    "name": "ipython",
    "version": 3
   },
   "file_extension": ".py",
   "mimetype": "text/x-python",
   "name": "python",
   "nbconvert_exporter": "python",
   "pygments_lexer": "ipython3",
   "version": "3.9.5"
  }
 },
 "nbformat": 4,
 "nbformat_minor": 5
}
