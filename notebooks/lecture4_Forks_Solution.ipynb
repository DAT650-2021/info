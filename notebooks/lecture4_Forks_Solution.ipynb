{
 "cells": [
  {
   "cell_type": "markdown",
   "source": [
    "# Lecture 4 Forks"
   ],
   "metadata": {
    "id": "5d1dd277"
   }
  },
  {
   "cell_type": "code",
   "execution_count": 41,
   "source": [
    "#Import statements\n",
    "import hashlib as hasher\n",
    "\n",
    "def hashbits(input):\n",
    "    hash_obj = hasher.sha256()\n",
    "    inputbytes = input.encode()\n",
    "    #print(type(inputbytes))\n",
    "    hash_obj.update(inputbytes)\n",
    "    hashbytes = hash_obj.digest()\n",
    "    return ''.join(f'{x:08b}' for x in hashbytes)\n",
    "\n",
    "def hash(input):\n",
    "    hash_obj = hasher.sha256()\n",
    "    inputbytes = input.encode()\n",
    "    #print(type(inputbytes))\n",
    "    hash_obj.update(inputbytes)\n",
    "    return hash_obj.hexdigest()"
   ],
   "outputs": [],
   "metadata": {
    "id": "ef05ce3c"
   }
  },
  {
   "cell_type": "markdown",
   "source": [
    "## Exercise 1\n",
    "\n",
    "### Forks (Part 1)\n",
    "* In previous lectures you implemented a simple blokchain as a linked list. In order to keep track all of the blocks, replace 'last' with a list of blocks called chain. \n",
    "* Implement a funtion called longestChain for returning the last block of the longest chain.\n",
    "* Use the height of each block to implement hasFork function. \n",
    "* Complete PoWSolver function in which miners append block to the longest chain. \n",
    "* What is the result of hasFork? Why?"
   ],
   "metadata": {
    "id": "37bbdd87"
   }
  },
  {
   "cell_type": "code",
   "execution_count": null,
   "source": [
    "class Block:\n",
    "    def __init__(self, data, creator=None, previous=None, nonce=0):\n",
    "        self.data = data\n",
    "        if previous is None:\n",
    "            self.previous = None\n",
    "            self.previous_hash = \"\"\n",
    "            self.creator = Miner(0 , \"0\")\n",
    "            self.height = 0\n",
    "        else:\n",
    "            self.previous = previous\n",
    "            self.previous_hash = previous.hash\n",
    "            self.creator = creator\n",
    "            self.height = previous.height+1\n",
    "        self.nonce = nonce\n",
    "        self.hash = self.hash_block()\n",
    "\n",
    "    def hash_block(self):\n",
    "        return hashbits(self.data+ self.creator.name + self.previous_hash + str(self.nonce))\n",
    "        \n",
    "class Blockchain:\n",
    "    def __init__(self, genesis_data, difficulty):\n",
    "        self.chain = []\n",
    "        self.chain. append(Block(genesis_data))\n",
    "        self.difficulty = difficulty\n",
    "        self.size = 0\n",
    "\n",
    "    def longestChain(self):\n",
    "      #add this function\n",
    "      #return the last block of the longest chain (block with the maximum height)\n",
    "        \n",
    "    def add(self, newBlock):\n",
    "        self.chain.append(newBlock)\n",
    "        self.size +=1\n",
    "\n",
    "    def hasFork(self):\n",
    "      #add this function\n",
    "      #check whether there is a fork in the blockchain. return True or False\n",
    "\n",
    "\n",
    "class Miner:\n",
    "  def __init__(self, miningPower, name):\n",
    "    self.miningPower = miningPower\n",
    "    self.nonce = 0\n",
    "    self.name = name\n",
    "  \n",
    "  def PoWSolver(self, bc):\n",
    "    #add this function\n",
    "    #add a block to the longest chain\n",
    "\n",
    "def numberOfInitZeros(hashStr):\n",
    "  count = 0\n",
    "  for i in range (0 , len(hashStr)):\n",
    "    if hashStr[i] == '1':\n",
    "      break\n",
    "    count += 1\n",
    "  return count\n",
    "\n",
    "bc = Blockchain(\"0\" , 10)\n",
    "m1 = Miner(2 ,\"m1\")\n",
    "m2 = Miner(4, \"m2\")\n",
    "while bc.size < 20:\n",
    "  m1.PoWSolver(bc)\n",
    "  m2.PoWSolver(bc)\n",
    "\n",
    "print(bc.hasFork())"
   ],
   "outputs": [],
   "metadata": {
    "id": "POewcpIjhHiB"
   }
  },
  {
   "cell_type": "code",
   "execution_count": 19,
   "source": [
    "#solution: \n",
    "class Block:\n",
    "    def __init__(self, data, creator=None, previous=None, nonce=0):\n",
    "        self.data = data\n",
    "        if previous is None:\n",
    "            self.previous = None\n",
    "            self.previous_hash = \"\"\n",
    "            self.creator = Miner(0 , \"0\")\n",
    "            self.height = 0\n",
    "        else:\n",
    "            self.previous = previous\n",
    "            self.previous_hash = previous.hash\n",
    "            self.creator = creator\n",
    "            self.height = previous.height+1\n",
    "        self.nonce = nonce\n",
    "        self.hash = self.hash_block()\n",
    "\n",
    "    def hash_block(self):\n",
    "        return hashbits(self.data+ self.creator.name + self.previous_hash + str(self.nonce))\n",
    "\n",
    "    def print(self):\n",
    "      print(self.data + \" \"+ self.creator.name + \" \" + str(self.height))\n",
    "        \n",
    "class Blockchain:\n",
    "    def __init__(self, genesis_data, difficulty):\n",
    "        self.chain = []\n",
    "        self.chain.append(Block(genesis_data))\n",
    "        self.difficulty = difficulty\n",
    "        self.size = 0\n",
    "\n",
    "    def longestChain(self):\n",
    "      max = self.chain[0]\n",
    "      for block in self.chain:\n",
    "        if block.height > max.height:\n",
    "          max = block\n",
    "      return max\n",
    "        \n",
    "    def add(self, newBlock):\n",
    "        self.chain.append(newBlock)\n",
    "        self.size +=1\n",
    "        \n",
    "    def print(self):\n",
    "      for block in self.chain:\n",
    "        block.print()\n",
    "        print(\"________\")\n",
    "\n",
    "    def hasFork(self):\n",
    "      for block1 in self.chain:\n",
    "        for block2 in self.chain:\n",
    "          if block1!=block2 and block1.height == block2.height:\n",
    "            return True\n",
    "      return False\n",
    "\n",
    "\n",
    "class Miner:\n",
    "  def __init__(self, miningPower, name):\n",
    "    self.miningPower = miningPower\n",
    "    self.nonce = 0\n",
    "    self.name = name\n",
    "  \n",
    "  def PoWSolver(self, bc):\n",
    "    for i in range (0 , self.miningPower):\n",
    "      newBlock = Block(str(bc.size), self, bc.longestChain(), self.nonce)\n",
    "      h = newBlock.hash_block()\n",
    "      count = numberOfInitZeros(h)\n",
    "      if count >= bc.difficulty:\n",
    "        bc.add(newBlock)\n",
    "      self.nonce += 1\n",
    "\n",
    "def numberOfInitZeros(hashStr):\n",
    "  count = 0\n",
    "  for i in range (0 , len(hashStr)):\n",
    "    if hashStr[i] == '1':\n",
    "      break\n",
    "    count += 1\n",
    "  return count\n",
    "\n",
    "bc = Blockchain(\"0\" , 10)\n",
    "m1 = Miner(2 ,\"m1\")\n",
    "m2 = Miner(4, \"m2\")\n",
    "while bc.size < 20:\n",
    "  m1.PoWSolver(bc)\n",
    "  m2.PoWSolver(bc)\n",
    "\n",
    "print(bc.hasFork())"
   ],
   "outputs": [
    {
     "output_type": "stream",
     "name": "stdout",
     "text": [
      "False\n"
     ]
    }
   ],
   "metadata": {
    "colab": {
     "base_uri": "https://localhost:8080/"
    },
    "id": "f416da03",
    "outputId": "e662cf30-d3cf-481b-bfdc-fa8344c4c1ba"
   }
  },
  {
   "cell_type": "markdown",
   "source": [
    "## Exercise 2\n",
    "\n",
    "### Forks (Part 2)\n",
    "Forks happen because two minors find a block concurrently.\n",
    "Below we model this by having minors create a block extending a local lastBlock.\n",
    "Function UpdateLast models a block arriving from the main chain.\n",
    "* Implement functions `PoWSolver` and `UpdateLast`. Note that `PoWSolver` should extend the local block `self.lastBlock`, rather than the longest chain.\n",
    "* Do forks happen if we call `UpdateLast` before every call to `PoWSolver`? What if we call it before every second?"
   ],
   "metadata": {
    "id": "ac097c16"
   }
  },
  {
   "cell_type": "code",
   "execution_count": null,
   "source": [
    "\n",
    "class CMiner:\n",
    "  def __init__(self, miningPower, name, lastBlock=None):\n",
    "    self.miningPower = miningPower\n",
    "    self.nonce = 0\n",
    "    self.name = name\n",
    "    self.lastBlock = lastBlock\n",
    "  \n",
    "  def UpdateLast(self, bc):\n",
    "    #update self.lastBlock to the longestChain, if that has a larger height.\n",
    "\n",
    "  def PoWSolver(self, bc):\n",
    "    #add this function \n",
    "    #do not forget to update self.lastBlock if a block is found\n",
    "\n",
    "\n",
    "bc = Blockchain(\"0\" , 7)\n",
    "m1 = Miner(5 ,\"m1\", bc.longestChain())\n",
    "m2 = Miner(5, \"m2\", bc.longestChain())\n",
    "while bc.size < 20:\n",
    "  m1.UpdateLast(bc)\n",
    "  m2.UpdateLast(bc)\n",
    "  m1.PoWSolver(bc)\n",
    "  m2.PoWSolver(bc)\n",
    "\n",
    "print(bc.hasFork())\n",
    "bc.print()"
   ],
   "outputs": [],
   "metadata": {
    "id": "CDX_Rs4rubpy"
   }
  },
  {
   "cell_type": "code",
   "execution_count": 61,
   "source": [
    "#solution\n",
    "\n",
    "class Miner:\n",
    "  def __init__(self, miningPower, name, blockchain=None):\n",
    "    self.miningPower = miningPower\n",
    "    self.nonce = 0\n",
    "    self.name = name\n",
    "    self.blockchain = blockchain\n",
    "    if self.blockchain != None:\n",
    "      self.lastBlock = blockchain.longestChain()\n",
    "  \n",
    "  def UpdateLast(self):\n",
    "    latest = self.blockchain.longestChain()\n",
    "    if latest.height > self.lastBlock.height:\n",
    "        self.lastBlock = latest\n",
    "\n",
    "  def PoWSolver(self):\n",
    "    for i in range (0 , self.miningPower):\n",
    "      newBlock = Block(str(self.blockchain.size), self, self.lastBlock, self.nonce)\n",
    "      h = newBlock.hash_block()\n",
    "      count = numberOfInitZeros(h)\n",
    "      if count >= bc.difficulty:\n",
    "        bc.add(newBlock)\n",
    "        self.lastBlock = newBlock\n",
    "      self.nonce += 1\n",
    "\n",
    "\n",
    "bc = Blockchain(\"0\" , 7)\n",
    "m1 = Miner(5 ,\"m1\", bc)\n",
    "m2 = Miner(5, \"m2\", bc)\n",
    "while bc.size < 20:\n",
    "  m1.UpdateLast()\n",
    "  m2.UpdateLast()\n",
    "  m1.PoWSolver()\n",
    "  m2.PoWSolver()\n",
    "\n",
    "print(bc.hasFork())\n",
    "bc.print()"
   ],
   "outputs": [
    {
     "output_type": "stream",
     "name": "stdout",
     "text": [
      "True\n",
      "0 0 0\n",
      "________\n",
      "0 m1 1\n",
      "________\n",
      "1 m1 2\n",
      "________\n",
      "2 m1 3\n",
      "________\n",
      "3 m2 3\n",
      "________\n",
      "4 m1 4\n",
      "________\n",
      "5 m1 5\n",
      "________\n",
      "6 m1 6\n",
      "________\n",
      "7 m1 7\n",
      "________\n",
      "8 m1 8\n",
      "________\n",
      "9 m1 9\n",
      "________\n",
      "10 m1 10\n",
      "________\n",
      "11 m1 11\n",
      "________\n",
      "12 m1 12\n",
      "________\n",
      "13 m1 13\n",
      "________\n",
      "14 m2 14\n",
      "________\n",
      "15 m2 15\n",
      "________\n",
      "16 m2 16\n",
      "________\n",
      "17 m2 17\n",
      "________\n",
      "18 m1 18\n",
      "________\n",
      "19 m1 19\n",
      "________\n"
     ]
    }
   ],
   "metadata": {
    "colab": {
     "base_uri": "https://localhost:8080/"
    },
    "id": "3931d5c3",
    "outputId": "3c768889-1582-4b84-f5a6-b379ed3614f7"
   }
  },
  {
   "cell_type": "markdown",
   "source": [
    "## Exercise 3\n",
    "\n",
    "### Impact of difficulty and network loss on forks\n",
    "Implement a function that returns the number of blocks which are not in the longest chain. Calculate this number for different difficulties and network losses. What is the impact of these on forks?"
   ],
   "metadata": {
    "id": "62da38e9"
   }
  },
  {
   "cell_type": "code",
   "execution_count": null,
   "source": [],
   "outputs": [],
   "metadata": {
    "id": "1be83823"
   }
  },
  {
   "cell_type": "code",
   "execution_count": 65,
   "source": [
    "#solution\n",
    "def BlocksInForks(bc):\n",
    "  return bc.size - bc.longestChain().height\n",
    "\n",
    "for i in range(1,15,1):\n",
    "  bc = Blockchain(\"0\" , i)\n",
    "  m1 = Miner(5 ,\"m1\", bc)\n",
    "  m2 = Miner(5, \"m2\", bc)\n",
    "  while bc.size < 20:\n",
    "    m1.UpdateLast()\n",
    "    m2.UpdateLast()\n",
    "    m1.PoWSolver()\n",
    "    m2.PoWSolver()\n",
    "\n",
    "  print(BlocksInForks(bc))\n"
   ],
   "outputs": [
    {
     "output_type": "stream",
     "name": "stdout",
     "text": [
      "11\n",
      "7\n",
      "5\n",
      "3\n",
      "1\n",
      "1\n",
      "1\n",
      "0\n",
      "0\n",
      "0\n",
      "0\n",
      "0\n",
      "0\n",
      "0\n"
     ]
    }
   ],
   "metadata": {
    "colab": {
     "base_uri": "https://localhost:8080/"
    },
    "id": "j6Ljpw3ovv8i",
    "outputId": "adc0160c-efc6-48c2-efef-bb6d8cc58857"
   }
  },
  {
   "cell_type": "code",
   "execution_count": 66,
   "source": [
    "for i in range(1,15,1):\n",
    "  bc = Blockchain(\"0\" , i)\n",
    "  m1 = Miner(10 ,\"m1\", bc)\n",
    "  m2 = Miner(10, \"m2\", bc)\n",
    "  while bc.size < 20:\n",
    "    m1.UpdateLast()\n",
    "    m2.UpdateLast()\n",
    "    m1.PoWSolver()\n",
    "    m2.PoWSolver()\n",
    "\n",
    "  print(BlocksInForks(bc))"
   ],
   "outputs": [
    {
     "output_type": "stream",
     "name": "stdout",
     "text": [
      "10\n",
      "7\n",
      "8\n",
      "3\n",
      "3\n",
      "3\n",
      "1\n",
      "0\n",
      "0\n",
      "0\n",
      "0\n",
      "0\n",
      "0\n",
      "0\n"
     ]
    }
   ],
   "metadata": {
    "id": "l5abJDE2pS2s"
   }
  },
  {
   "cell_type": "markdown",
   "source": [
    "## Exercise 4\n",
    "### Difficulty\n",
    "\n",
    "* Calculate the probability of 6 consecutive forks in a blockchain with block delay 10min and network delay 12.6sec.\n",
    "* Calculate the probability of 6 consecutive forks in a blockchain with block delay 20sec and network delay 12.6sec.\n",
    "* Calculate the probability of 180 consecutive forks in a blockchain with block delay 20sec and network delay 12.6sec."
   ],
   "metadata": {}
  },
  {
   "cell_type": "code",
   "execution_count": 5,
   "source": [
    "def pfork(p,d):\n",
    "    return 1-(1.0-p)**d"
   ],
   "outputs": [],
   "metadata": {}
  },
  {
   "cell_type": "code",
   "execution_count": 6,
   "source": [
    "pfork(1/600,12.6)**6"
   ],
   "outputs": [
    {
     "output_type": "execute_result",
     "data": {
      "text/plain": [
       "8.093816105158213e-11"
      ]
     },
     "metadata": {},
     "execution_count": 6
    }
   ],
   "metadata": {}
  },
  {
   "cell_type": "code",
   "execution_count": 7,
   "source": [
    "pfork(1/20,12.6)**6"
   ],
   "outputs": [
    {
     "output_type": "execute_result",
     "data": {
      "text/plain": [
       "0.01163411256347714"
      ]
     },
     "metadata": {},
     "execution_count": 7
    }
   ],
   "metadata": {}
  },
  {
   "cell_type": "code",
   "execution_count": 8,
   "source": [
    "pfork(1/20,12.6)**180"
   ],
   "outputs": [
    {
     "output_type": "execute_result",
     "data": {
      "text/plain": [
       "9.375573488679907e-59"
      ]
     },
     "metadata": {},
     "execution_count": 8
    }
   ],
   "metadata": {}
  },
  {
   "cell_type": "code",
   "execution_count": null,
   "source": [],
   "outputs": [],
   "metadata": {}
  }
 ],
 "metadata": {
  "colab": {
   "collapsed_sections": [],
   "name": "lecture4_Forks.ipynb",
   "provenance": []
  },
  "kernelspec": {
   "display_name": "Python 3 (ipykernel)",
   "language": "python",
   "name": "python3"
  },
  "language_info": {
   "codemirror_mode": {
    "name": "ipython",
    "version": 3
   },
   "file_extension": ".py",
   "mimetype": "text/x-python",
   "name": "python",
   "nbconvert_exporter": "python",
   "pygments_lexer": "ipython3",
   "version": "3.9.5"
  }
 },
 "nbformat": 4,
 "nbformat_minor": 5
}