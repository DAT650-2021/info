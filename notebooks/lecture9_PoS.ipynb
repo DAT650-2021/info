{
  "nbformat": 4,
  "nbformat_minor": 5,
  "metadata": {
    "kernelspec": {
      "display_name": "Python 3 (ipykernel)",
      "language": "python",
      "name": "python3"
    },
    "language_info": {
      "codemirror_mode": {
        "name": "ipython",
        "version": 3
      },
      "file_extension": ".py",
      "mimetype": "text/x-python",
      "name": "python",
      "nbconvert_exporter": "python",
      "pygments_lexer": "ipython3",
      "version": "3.9.5"
    },
    "colab": {
      "name": "lecture9_PoS.ipynb",
      "provenance": [],
      "collapsed_sections": []
    }
  },
  "cells": [
    {
      "cell_type": "markdown",
      "metadata": {
        "id": "5d1dd277"
      },
      "source": [
        "# Lecture 9 Proof of Stake"
      ],
      "id": "5d1dd277"
    },
    {
      "cell_type": "code",
      "metadata": {
        "id": "ef05ce3c"
      },
      "source": [
        "#Import statements\n",
        "import hashlib as hasher\n",
        "import random\n",
        "import time\n",
        "import matplotlib.pyplot as plt\n",
        "\n",
        "def hashbits(input):\n",
        "    hash_obj = hasher.sha256()\n",
        "    inputbytes = input.encode()\n",
        "    #print(type(inputbytes))\n",
        "    hash_obj.update(inputbytes)\n",
        "    hashbytes = hash_obj.digest()\n",
        "    return ''.join(f'{x:08b}' for x in hashbytes)\n",
        "\n",
        "def hash(input):\n",
        "    hash_obj = hasher.sha256()\n",
        "    inputbytes = input.encode()\n",
        "    #print(type(inputbytes))\n",
        "    hash_obj.update(inputbytes)\n",
        "    return hash_obj.hexdigest()"
      ],
      "id": "ef05ce3c",
      "execution_count": null,
      "outputs": []
    },
    {
      "cell_type": "code",
      "metadata": {
        "id": "PF27eDnmt2YW",
        "colab": {
          "base_uri": "https://localhost:8080/"
        },
        "outputId": "ec45c7a4-ae8d-4511-ac0e-72b9ae0ace9d"
      },
      "source": [
        "####### Drawing blockchain, not important\n",
        "from IPython.display import HTML, display\n",
        "from IPython.html.widgets.interaction import interact\n",
        "\n",
        "def maxHeight(parent):\n",
        "  if len(parent.children) == 0:\n",
        "    return parent.height \n",
        "  max = 0\n",
        "  for child in parent.children:\n",
        "    m = maxHeight(child)\n",
        "    if m> max:\n",
        "      max = m\n",
        "  return max\n",
        "  \n",
        "\n",
        "def drawBlockchain(parent, level, html, parentLevel, childN = 0, total = 0):\n",
        "  color = \"#AEF751\"\n",
        "  if parentLevel!=-1:\n",
        "    color = \"#7EDBF6\"\n",
        "  parent.children.sort(key=lambda x: (maxHeight(x)), reverse=True)\n",
        "  xx = childN\n",
        "  level += childN\n",
        "  html += '<g>'\n",
        "  html += '<rect x=\"'+str(30+ 100*parent.height)+'\" y=\"'+str(30+ 100*level)+'\" width=\"60\" height=\"60\" stroke=\"black\" stroke-width=\"1\" fill=\"'+color+'\" />'\n",
        "  html += '<text x=\"'+str((60+ 100*parent.height))+'\" y=\"'+str((60+ 100*level))+'\" dominant-baseline=\"middle\" text-anchor=\"middle\" font-family=\"Verdana\" font-size=\"10\" font-weight=\"bold\" fill=\"black\">'+str(parent.creator.name)+'</text>'\n",
        "  if parentLevel != -1:\n",
        "    if (parent.previous.children.index(parent)) == 0:\n",
        "      html += '<line stroke-width=\"1px\" stroke=\"#000000\"  x1='+str(30+ 100*parent.height)+' y1=\"'+str(60+ 100*level)+'\" x2=\"'+str(95+ 100*parent.previous.height)+'\" y2=\"'+str(60+ 100*parentLevel)+'\" style=\"marker-end: url(#markerArrow)\"/>'\n",
        "    else:\n",
        "      html += '<line stroke-width=\"1px\" stroke=\"#000000\"  x1='+str(30+ 100*parent.height)+' y1=\"'+str(60+ 100*level)+'\" x2=\"'+str(65+ 100*parent.previous.height)+'\" y2=\"'+str(95+ 100*parentLevel)+'\" style=\"marker-end: url(#markerArrow)\"/>'\n",
        "  html += '</g>'\n",
        "  l = level\n",
        "  childN = 0\n",
        "  for child in parent.children:\n",
        "    html,n, t = drawBlockchain(child, l, html, level, childN, total)\n",
        "    if n > 0:\n",
        "      childN += n\n",
        "    if t > 0:\n",
        "      total += t\n",
        "    l = l+1\n",
        "  return html, childN+ len(parent.children)-1, total+ len(parent.children)-1\n",
        "\n",
        "\n",
        "def show(bc):\n",
        "  htmll = \"\"\n",
        "  html = \"\"\n",
        "  htmll, n, t = drawBlockchain(bc.chain[0], 0, html, -1)\n",
        "  html = '<svg height=\"'+str(115*(n+1))+'\" width=\"'+str(130*maxHeight(bc.chain[0]))+'\">'\n",
        "  html += '<defs><marker id=\"markerArrow\" markerWidth=\"10\" markerHeight=\"10\" refX=\"2\" refY=\"6\" orient=\"auto\"><path d=\"M2,2 L2,11 L10,6 L2,2\" style=\"fill: #000000;\" /> </marker> </defs>'\n",
        "  html += htmll\n",
        "  html += '</svg>'\n",
        "  display(HTML(html))"
      ],
      "id": "PF27eDnmt2YW",
      "execution_count": null,
      "outputs": [
        {
          "output_type": "stream",
          "name": "stderr",
          "text": [
            "/usr/local/lib/python3.7/dist-packages/IPython/html.py:14: ShimWarning: The `IPython.html` package has been deprecated since IPython 4.0. You should import from `notebook` instead. `IPython.html.widgets` has moved to `ipywidgets`.\n",
            "  \"`IPython.html.widgets` has moved to `ipywidgets`.\", ShimWarning)\n"
          ]
        }
      ]
    },
    {
      "cell_type": "markdown",
      "metadata": {
        "id": "37bbdd87"
      },
      "source": [
        "## Exercise 1\n",
        "\n",
        "### Proof of Stake\n",
        "\n",
        "PoS is one of the widely used alternatives for PoW. In the PoS the mining power is replaced with stakes.  \n",
        "\n",
        "- Below there are stubs for Blockchain, Block, and Minter. Each block has a property as the timestamp it was created on. Note the hash_block function. \n",
        "- Complete isSmaller function to return 'True' if the first 15 bits of the block hash is valid based on blockchain difficulty and minter stake. \n",
        "- Complete PoSSolver function. Note that each minter gets to try once per each time interval. "
      ],
      "id": "37bbdd87"
    },
    {
      "cell_type": "code",
      "metadata": {
        "id": "POewcpIjhHiB"
      },
      "source": [
        "class Block:\n",
        "    def __init__(self, data, creator=None, previous=None, time=0):\n",
        "        self.data = data\n",
        "        if previous is None:\n",
        "            self.previous = None\n",
        "            self.previous_hash = \"\"\n",
        "            self.creator = Minter(0 , \"0\")\n",
        "            self.height = 0\n",
        "        else:\n",
        "            self.previous = previous\n",
        "            self.previous_hash = previous.hash\n",
        "            self.creator = creator\n",
        "            self.height = previous.height+1\n",
        "        self.timestamp = time\n",
        "        self.hash = self.hash_block()\n",
        "        self.children = []\n",
        "\n",
        "    def hash_block(self):\n",
        "        return hashbits(self.creator.name + self.previous_hash + str(self.timestamp))\n",
        "\n",
        "    def print(self):\n",
        "      print(self.data + \" \"+ self.creator.name + \" \" + str(self.height))\n",
        "        \n",
        "class Blockchain:\n",
        "    def __init__(self, genesis_data, difficulty):\n",
        "        self.chain = []\n",
        "        self.chain.append(Block(genesis_data))\n",
        "        self.difficulty = difficulty\n",
        "        self.size = 0\n",
        "\n",
        "    def lastBlock(self):\n",
        "      max = self.chain[0]\n",
        "      for block in self.chain:\n",
        "        if block.height > max.height:\n",
        "          max = block\n",
        "      return max\n",
        "        \n",
        "    def add(self, newBlock):\n",
        "        self.chain.append(newBlock)\n",
        "        newBlock.previous.children.append(newBlock)\n",
        "        self.size +=1\n",
        "        newBlock.creator.stake+=1\n",
        "    \n",
        "    def isSmaller(self, hashStr, stake):\n",
        "      #add this function\n",
        "      #use int(hashStr[0:15],2) to convert the first 15 bits to int  \n",
        "\n",
        "    def checkMiner(self, miner):\n",
        "      last = self.lastBlock()\n",
        "      count = 0\n",
        "      while last!=None:\n",
        "        if last.creator == miner:\n",
        "          count += 1\n",
        "        last = last.previous\n",
        "      return count\n",
        "\n",
        "class Minter:\n",
        "  def __init__(self, stake, name, blockchain=None):\n",
        "    self.stake = stake\n",
        "    self.name = name\n",
        "    self.blockchain = blockchain\n",
        "    if self.blockchain != None:\n",
        "      self.lastBlock = blockchain.lastBlock()\n",
        "\n",
        "  def updateLast(self):\n",
        "    latest = self.blockchain.lastBlock()\n",
        "    if latest.height > self.lastBlock.height:\n",
        "        self.lastBlock = latest\n",
        "\n",
        "  def PoSSolver(self, seconds):\n",
        "    #add this function\n",
        "\n",
        "bc = Blockchain(\"0\" , 1)\n",
        "m1 = Minter(10 ,\"m1\", bc)\n",
        "m2 = Minter(15, \"m2\", bc)\n",
        "m3 = Minter(20, \"m3\", bc)\n",
        "m4 = Minter(12, \"m4\", bc)\n",
        "start_time = time.time()\n",
        "while bc.size < 60:\n",
        "  seconds = (time.time() - start_time)\n",
        "  m1.updateLast()\n",
        "  m1.PoSSolver(seconds)\n",
        "  m2.updateLast()\n",
        "  m2.PoSSolver(seconds)\n",
        "  m3.updateLast()\n",
        "  m3.PoSSolver(seconds)\n",
        "  m4.updateLast()\n",
        "  m4.PoSSolver(seconds)\n",
        "\n",
        "print(m1.stake)\n",
        "print(m2.stake)\n",
        "print(m3.stake)\n",
        "print(m4.stake)"
      ],
      "id": "POewcpIjhHiB",
      "execution_count": null,
      "outputs": []
    },
    {
      "cell_type": "code",
      "metadata": {
        "id": "HHDWAbjxt5Ar"
      },
      "source": [
        "show(bc)"
      ],
      "id": "HHDWAbjxt5Ar",
      "execution_count": null,
      "outputs": []
    },
    {
      "cell_type": "markdown",
      "metadata": {
        "id": "ac097c16"
      },
      "source": [
        "## Exercise 2\n",
        "\n",
        "### Rich get richer!\n",
        "\n",
        "Draw a chart to show minters stakes over rounds. Calculate the minters stake for each block that is appended to the chain. Try out different maximum blockchain sizes. Does the rich get richer? "
      ],
      "id": "ac097c16"
    },
    {
      "cell_type": "code",
      "metadata": {
        "id": "CDX_Rs4rubpy"
      },
      "source": [
        "bc = Blockchain(\"0\" , 1)\n",
        "m1 = Minter(10 ,\"m1\", bc)\n",
        "m2 = Minter(20, \"m2\", bc)\n",
        "m3 = Minter(30, \"m3\", bc)\n",
        "start_time = time.time()\n",
        "ms1 = []\n",
        "ms2 = []\n",
        "ms3 = []\n",
        "count = list(range(0, 100))\n",
        "while bc.size < 101:\n",
        "  if bc.size > len(ms1):\n",
        "  #complete here\n",
        "  seconds = (time.time() - start_time)\n",
        "  m1.updateLast()\n",
        "  m1.PoSSolver(seconds)\n",
        "  m2.updateLast()\n",
        "  m2.PoSSolver(seconds)\n",
        "  m3.updateLast()\n",
        "  m3.PoSSolver(seconds)\n",
        "\n",
        "plt.plot(count, ms1)\n",
        "plt.plot(count, ms2)\n",
        "plt.plot(count, ms3)\n",
        "plt.title('Stake per round')\n",
        "plt.xlabel('Round')\n",
        "plt.ylabel('Stake')\n",
        "plt.show()"
      ],
      "id": "CDX_Rs4rubpy",
      "execution_count": null,
      "outputs": []
    },
    {
      "cell_type": "markdown",
      "metadata": {
        "id": "62da38e9"
      },
      "source": [
        "## Exercise 3\n",
        "\n",
        "### Coin age\n",
        "\n",
        "One solution for rich get richer problem is using coin age. Coin age is calculated based on how many days the stakes are freezed. When a minter generates a block, the coin age resets. \n",
        "\n",
        "* add lastBlockGeneratedBy function in a way that returns the last block that is generated by a given minter. If the minter has not generated any blocks yet, return genesis. \n",
        "* Modify PoSSolver function in a way that takes coin age into account other than stakes. \n",
        "* Redo the previous experiment. How coin age affects the system?\n"
      ],
      "id": "62da38e9"
    },
    {
      "cell_type": "code",
      "metadata": {
        "id": "1be83823"
      },
      "source": [
        "class Blockchain:\n",
        "    def __init__(self, genesis_data, difficulty):\n",
        "        self.chain = []\n",
        "        self.chain.append(Block(genesis_data))\n",
        "        self.difficulty = difficulty\n",
        "        self.size = 0\n",
        "\n",
        "    def lastBlock(self):\n",
        "      max = self.chain[0]\n",
        "      for block in self.chain:\n",
        "        if block.height > max.height:\n",
        "          max = block\n",
        "      return max\n",
        "        \n",
        "    def add(self, newBlock):\n",
        "        self.chain.append(newBlock)\n",
        "        newBlock.previous.children.append(newBlock)\n",
        "        self.size +=1\n",
        "        newBlock.creator.stake+=1\n",
        "    \n",
        "    def isSmaller(self, hashStr, stake):\n",
        "      #add this function\n",
        "\n",
        "    def checkMiner(self, miner):\n",
        "      last = self.lastBlock()\n",
        "      count = 0\n",
        "      while last!=None:\n",
        "        if last.creator == miner:\n",
        "          count += 1\n",
        "        last = last.previous\n",
        "      return count\n",
        "\n",
        "    def lastBlockGeneratedBy(self, minter):\n",
        "      #add this function\n",
        "\n",
        "class Minter:\n",
        "  def __init__(self, stake, name, blockchain=None):\n",
        "    self.stake = stake\n",
        "    self.name = name\n",
        "    self.blockchain = blockchain\n",
        "    if self.blockchain != None:\n",
        "      self.lastBlock = blockchain.lastBlock()\n",
        "\n",
        "  def updateLast(self):\n",
        "    latest = self.blockchain.lastBlock()\n",
        "    if latest.height > self.lastBlock.height:\n",
        "        self.lastBlock = latest\n",
        "\n",
        "  def PoSSolver(self, seconds):\n",
        "    #add this function"
      ],
      "id": "1be83823",
      "execution_count": null,
      "outputs": []
    }
  ]
}